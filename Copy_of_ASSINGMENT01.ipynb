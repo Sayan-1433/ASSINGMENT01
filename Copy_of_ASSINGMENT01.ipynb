{
  "nbformat": 4,
  "nbformat_minor": 0,
  "metadata": {
    "colab": {
      "provenance": [],
      "collapsed_sections": [
        "ubeST910wnpt"
      ]
    },
    "kernelspec": {
      "name": "python3",
      "display_name": "Python 3"
    },
    "language_info": {
      "name": "python"
    }
  },
  "cells": [
    {
      "cell_type": "markdown",
      "source": [
        "## **##ASSINGMENT 0##** ##"
      ],
      "metadata": {
        "id": "ubeST910wnpt"
      }
    },
    {
      "cell_type": "markdown",
      "source": [
        "Topics cover up for this assingment are ---\n",
        "\n",
        "\n",
        "*   Basic Python Exercise\n",
        "       1.   Create a new list from two lists\n",
        "       2.   Print multiplication table from 1 to 10\n",
        "       1.   Print a downward Half-Pyramid Pattern (containing 0s only)\n",
        "       1.   Add new data to list and Sorting\n",
        "       2.   Odd number checker\n",
        "       1.   Mode Calculator   \n",
        "*   Numpy Exercise\n",
        "       1.   Create a 4x2 integer Array abd Print its attributes(shape,dimension,lenght of each byte)\n",
        "       2.   Array Indexing\n",
        "       1.   Array Sorting\n",
        "*   Pandas Exercise\n",
        "\n",
        "       From a given Dataset---\n",
        "       1.   Print the first and the last five rows.\n",
        "       2.   Replace all the coloumn values which contain ?,n.a.,or NAN with suitable values and print the updated dataset.\n",
        "       3.   count total cars per company and print them\n",
        "\n",
        "\n",
        "*   Matplotlib Exercise\n",
        "       1.   Line plot\n",
        "       2.   bar chart\n",
        "\n",
        "\n",
        "\n",
        "\n",
        "\n",
        "\n",
        "\n",
        "\n",
        "\n",
        "\n",
        "\n"
      ],
      "metadata": {
        "id": "Neykd8x24zLk"
      }
    },
    {
      "cell_type": "markdown",
      "source": [
        "# Basic Python Exercise"
      ],
      "metadata": {
        "id": "7_Zug7H618Hg"
      }
    },
    {
      "cell_type": "markdown",
      "source": [
        "## Problem Statement 1 --\n",
        "\n",
        "            Create a new list from two lists\n",
        "            list1 = [10,20,25,30,35]\n",
        "            list2 = [40,45,60,75,90]\n",
        "\n",
        "        \n"
      ],
      "metadata": {
        "id": "UVZiHNTs-7Qe"
      }
    },
    {
      "cell_type": "markdown",
      "source": [
        "\n",
        "###  Solution can be --"
      ],
      "metadata": {
        "id": "SFEf_XIUqo6r"
      }
    },
    {
      "cell_type": "markdown",
      "source": [
        "        1.  Concatane the lists              i.e. (a+b)\n",
        "        2.  Zip (pair elemnts) together      i.e. (list(zip(a,b)))\n",
        "        3.  Copy one and Extend with another i.e. (a.copy();.extend(b))\n",
        "        4.  Using itertools.chain()          i.e. (list(chain(a,b)))\n",
        "        5.  Set operations                   i.e. (list(set(a+b)))"
      ],
      "metadata": {
        "id": "fymTV8HsqiYK"
      }
    },
    {
      "cell_type": "code",
      "source": [
        "list_1 = [10,20,25,30,35]\n",
        "list_2 = [40,45,60,75,90]\n",
        "\n",
        "# concatane the lists\n",
        "new_list = list_1 + list_2\n",
        "print(new_list)\n",
        "print()\n",
        "\n",
        "# zip (pair elemnts) together\n",
        "new_list = list(zip(list_1,list_2))\n",
        "print(new_list)\n",
        "print()\n",
        "\n",
        "# copy one and Extend with another\n",
        "new_list =  list_1.copy()\n",
        "new_list.extend(list_2)\n",
        "print(new_list)\n",
        "print()\n",
        "\n",
        "# Using itertools.chain()\n",
        "from itertools import chain\n",
        "new_list = list(chain(list_1,list_2))\n",
        "print(new_list)\n",
        "print()\n",
        "\n",
        "# Set operations\n",
        "new_list = list(set(list_1+list_2))\n",
        "print(new_list)\n",
        "print()"
      ],
      "metadata": {
        "id": "boz1lQPMCLmA",
        "colab": {
          "base_uri": "https://localhost:8080/"
        },
        "outputId": "628f63b5-3b36-4154-dfa3-ea976561e0c5"
      },
      "execution_count": 22,
      "outputs": [
        {
          "output_type": "stream",
          "name": "stdout",
          "text": [
            "[10, 20, 25, 30, 35, 40, 45, 60, 75, 90]\n",
            "\n",
            "[(10, 40), (20, 45), (25, 60), (30, 75), (35, 90)]\n",
            "\n",
            "[10, 20, 25, 30, 35, 40, 45, 60, 75, 90]\n",
            "\n",
            "[10, 20, 25, 30, 35, 40, 45, 60, 75, 90]\n",
            "\n",
            "[35, 40, 10, 75, 45, 20, 25, 90, 60, 30]\n",
            "\n"
          ]
        }
      ]
    },
    {
      "cell_type": "markdown",
      "source": [
        "## Problem Statement 2 ---\n",
        "\n",
        "\n",
        "        Print a multipication table from 1 to 10\n",
        "\n",
        "\n",
        "   \n"
      ],
      "metadata": {
        "id": "0HOK2WZpEekE"
      }
    },
    {
      "cell_type": "markdown",
      "source": [
        "### solution ---"
      ],
      "metadata": {
        "id": "r2cslt1Uq4AP"
      }
    },
    {
      "cell_type": "code",
      "source": [
        "i = 0\n",
        "j = 0\n",
        "\n",
        "# Nested for loops -- rowwise\n",
        "for i in range (1,11):\n",
        "  for j in range (1,11):\n",
        "    print(i,\"*\",j,\"=\",i*j)\n",
        "# print new line btw. tabels\n",
        "  print()\n",
        "\n",
        "# Nested for loops -- coloumnwise or Horizontal Format\n",
        "for i in  range (1,11):\n",
        "  for j in range (1,11):\n",
        "# ':4' stands for -- the number will be right-allinged using a fied width of 4 charactes.\n",
        "    print(f\"{i*j:4}\", end = \" \")\n",
        " # print new line btw. tables\n",
        "    print()\n",
        "\n",
        " # formattaed grid tables\n",
        "print()\n",
        "for i in range (0,11):\n",
        "# 'end=\"\"'satnds for -- replaces the new line with a space..... end=\"/t\" -- tab spacing\n",
        "  print(f\"{i:4}\", end=\" \")\n",
        "# notice this print is out of for loop\n",
        "print()\n",
        "for i in range (1,11):\n",
        "  print (f\"{i:4}\", end = \" \")\n",
        "  for j in range (1,11):\n",
        "    print(f\"{i*j:4}\", end = \" \")\n",
        "# notice this print is in second for loop\n",
        "  print()"
      ],
      "metadata": {
        "id": "p4EwtEFnHb2r",
        "colab": {
          "base_uri": "https://localhost:8080/"
        },
        "outputId": "e8194ce0-ee68-4d53-8720-79f166b4b209"
      },
      "execution_count": 23,
      "outputs": [
        {
          "output_type": "stream",
          "name": "stdout",
          "text": [
            "1 * 1 = 1\n",
            "1 * 2 = 2\n",
            "1 * 3 = 3\n",
            "1 * 4 = 4\n",
            "1 * 5 = 5\n",
            "1 * 6 = 6\n",
            "1 * 7 = 7\n",
            "1 * 8 = 8\n",
            "1 * 9 = 9\n",
            "1 * 10 = 10\n",
            "\n",
            "2 * 1 = 2\n",
            "2 * 2 = 4\n",
            "2 * 3 = 6\n",
            "2 * 4 = 8\n",
            "2 * 5 = 10\n",
            "2 * 6 = 12\n",
            "2 * 7 = 14\n",
            "2 * 8 = 16\n",
            "2 * 9 = 18\n",
            "2 * 10 = 20\n",
            "\n",
            "3 * 1 = 3\n",
            "3 * 2 = 6\n",
            "3 * 3 = 9\n",
            "3 * 4 = 12\n",
            "3 * 5 = 15\n",
            "3 * 6 = 18\n",
            "3 * 7 = 21\n",
            "3 * 8 = 24\n",
            "3 * 9 = 27\n",
            "3 * 10 = 30\n",
            "\n",
            "4 * 1 = 4\n",
            "4 * 2 = 8\n",
            "4 * 3 = 12\n",
            "4 * 4 = 16\n",
            "4 * 5 = 20\n",
            "4 * 6 = 24\n",
            "4 * 7 = 28\n",
            "4 * 8 = 32\n",
            "4 * 9 = 36\n",
            "4 * 10 = 40\n",
            "\n",
            "5 * 1 = 5\n",
            "5 * 2 = 10\n",
            "5 * 3 = 15\n",
            "5 * 4 = 20\n",
            "5 * 5 = 25\n",
            "5 * 6 = 30\n",
            "5 * 7 = 35\n",
            "5 * 8 = 40\n",
            "5 * 9 = 45\n",
            "5 * 10 = 50\n",
            "\n",
            "6 * 1 = 6\n",
            "6 * 2 = 12\n",
            "6 * 3 = 18\n",
            "6 * 4 = 24\n",
            "6 * 5 = 30\n",
            "6 * 6 = 36\n",
            "6 * 7 = 42\n",
            "6 * 8 = 48\n",
            "6 * 9 = 54\n",
            "6 * 10 = 60\n",
            "\n",
            "7 * 1 = 7\n",
            "7 * 2 = 14\n",
            "7 * 3 = 21\n",
            "7 * 4 = 28\n",
            "7 * 5 = 35\n",
            "7 * 6 = 42\n",
            "7 * 7 = 49\n",
            "7 * 8 = 56\n",
            "7 * 9 = 63\n",
            "7 * 10 = 70\n",
            "\n",
            "8 * 1 = 8\n",
            "8 * 2 = 16\n",
            "8 * 3 = 24\n",
            "8 * 4 = 32\n",
            "8 * 5 = 40\n",
            "8 * 6 = 48\n",
            "8 * 7 = 56\n",
            "8 * 8 = 64\n",
            "8 * 9 = 72\n",
            "8 * 10 = 80\n",
            "\n",
            "9 * 1 = 9\n",
            "9 * 2 = 18\n",
            "9 * 3 = 27\n",
            "9 * 4 = 36\n",
            "9 * 5 = 45\n",
            "9 * 6 = 54\n",
            "9 * 7 = 63\n",
            "9 * 8 = 72\n",
            "9 * 9 = 81\n",
            "9 * 10 = 90\n",
            "\n",
            "10 * 1 = 10\n",
            "10 * 2 = 20\n",
            "10 * 3 = 30\n",
            "10 * 4 = 40\n",
            "10 * 5 = 50\n",
            "10 * 6 = 60\n",
            "10 * 7 = 70\n",
            "10 * 8 = 80\n",
            "10 * 9 = 90\n",
            "10 * 10 = 100\n",
            "\n",
            "   1 \n",
            "   2 \n",
            "   3 \n",
            "   4 \n",
            "   5 \n",
            "   6 \n",
            "   7 \n",
            "   8 \n",
            "   9 \n",
            "  10 \n",
            "   2 \n",
            "   4 \n",
            "   6 \n",
            "   8 \n",
            "  10 \n",
            "  12 \n",
            "  14 \n",
            "  16 \n",
            "  18 \n",
            "  20 \n",
            "   3 \n",
            "   6 \n",
            "   9 \n",
            "  12 \n",
            "  15 \n",
            "  18 \n",
            "  21 \n",
            "  24 \n",
            "  27 \n",
            "  30 \n",
            "   4 \n",
            "   8 \n",
            "  12 \n",
            "  16 \n",
            "  20 \n",
            "  24 \n",
            "  28 \n",
            "  32 \n",
            "  36 \n",
            "  40 \n",
            "   5 \n",
            "  10 \n",
            "  15 \n",
            "  20 \n",
            "  25 \n",
            "  30 \n",
            "  35 \n",
            "  40 \n",
            "  45 \n",
            "  50 \n",
            "   6 \n",
            "  12 \n",
            "  18 \n",
            "  24 \n",
            "  30 \n",
            "  36 \n",
            "  42 \n",
            "  48 \n",
            "  54 \n",
            "  60 \n",
            "   7 \n",
            "  14 \n",
            "  21 \n",
            "  28 \n",
            "  35 \n",
            "  42 \n",
            "  49 \n",
            "  56 \n",
            "  63 \n",
            "  70 \n",
            "   8 \n",
            "  16 \n",
            "  24 \n",
            "  32 \n",
            "  40 \n",
            "  48 \n",
            "  56 \n",
            "  64 \n",
            "  72 \n",
            "  80 \n",
            "   9 \n",
            "  18 \n",
            "  27 \n",
            "  36 \n",
            "  45 \n",
            "  54 \n",
            "  63 \n",
            "  72 \n",
            "  81 \n",
            "  90 \n",
            "  10 \n",
            "  20 \n",
            "  30 \n",
            "  40 \n",
            "  50 \n",
            "  60 \n",
            "  70 \n",
            "  80 \n",
            "  90 \n",
            " 100 \n",
            "\n",
            "   0    1    2    3    4    5    6    7    8    9   10 \n",
            "   1    1    2    3    4    5    6    7    8    9   10 \n",
            "   2    2    4    6    8   10   12   14   16   18   20 \n",
            "   3    3    6    9   12   15   18   21   24   27   30 \n",
            "   4    4    8   12   16   20   24   28   32   36   40 \n",
            "   5    5   10   15   20   25   30   35   40   45   50 \n",
            "   6    6   12   18   24   30   36   42   48   54   60 \n",
            "   7    7   14   21   28   35   42   49   56   63   70 \n",
            "   8    8   16   24   32   40   48   56   64   72   80 \n",
            "   9    9   18   27   36   45   54   63   72   81   90 \n",
            "  10   10   20   30   40   50   60   70   80   90  100 \n"
          ]
        }
      ]
    },
    {
      "cell_type": "markdown",
      "source": [
        "## Problem statement 3 ---\n",
        "\n",
        "        Print a downward half-pyramid patter(containing 0s only)\n",
        "\n",
        "        0 0 0 0 0\n",
        "        0 0 0 0\n",
        "        0 0 0\n",
        "        0 0\n",
        "        0\n",
        "\n",
        "\n"
      ],
      "metadata": {
        "id": "DgHUsU_SQPiD"
      }
    },
    {
      "cell_type": "markdown",
      "source": [
        "### Solution can be --\n",
        "\n",
        "(assuming right allinged)\n"
      ],
      "metadata": {
        "id": "LoxWOW0prL4J"
      }
    },
    {
      "cell_type": "markdown",
      "source": [
        "        1.  using nested for loop with end=\"\"     i.e. (rows>backward for loop>another for loop>use end=\"\")\n",
        "        2.  using single for loop                 i.e. (rows=i>backward for loop>\"0\"*i)\n",
        "        "
      ],
      "metadata": {
        "id": "p7eAZqMLrGUc"
      }
    },
    {
      "cell_type": "code",
      "source": [
        "rows=5\n",
        "# using nested loopswith end=\"\"\n",
        "for i in range(rows,0,-1):\n",
        "  for j in range(i):\n",
        "    print(\"0\",end=\" \")\n",
        "  print()\n",
        "\n",
        "print()\n",
        "# using single loop\n",
        "for i in range (rows,0,-1):\n",
        "  print(\"0 \"*i)"
      ],
      "metadata": {
        "id": "Ix8DjbUhShRq",
        "colab": {
          "base_uri": "https://localhost:8080/"
        },
        "outputId": "1315c731-66b5-4f20-bf5c-b6b6b2fda2b9"
      },
      "execution_count": 24,
      "outputs": [
        {
          "output_type": "stream",
          "name": "stdout",
          "text": [
            "0 0 0 0 0 \n",
            "0 0 0 0 \n",
            "0 0 0 \n",
            "0 0 \n",
            "0 \n",
            "\n",
            "0 0 0 0 0 \n",
            "0 0 0 0 \n",
            "0 0 0 \n",
            "0 0 \n",
            "0 \n"
          ]
        }
      ]
    },
    {
      "cell_type": "markdown",
      "source": [
        "## Problem satement 4 ---\n",
        "\n",
        "        Given the following vegetables list, add \"tomato\" to the end of the list and then sort them in alphabetical order.\n",
        "        vegetables = [\"eggplant\",\"broccoli\",\"carrot\",\"cauliflower\",\"zuuchini\"]\n",
        "\n",
        "\n",
        "\n",
        "  "
      ],
      "metadata": {
        "id": "gXyhZoXuTxcI"
      }
    },
    {
      "cell_type": "markdown",
      "source": [
        "### Solution can be ---"
      ],
      "metadata": {
        "id": "VgNBKrfarlcJ"
      }
    },
    {
      "cell_type": "markdown",
      "source": [
        " for adding another item--\n",
        "\n",
        "       1.  Add one item to the end                            i.e.(use .append())  \n",
        "       2.  use extend mainly for adding more than one item    i.e.(use .extend())\n",
        "       3.  concatenate                                        i.e.(list1+list2)\n",
        "         option 2 and 3 is not working here...it will breakdown the word\n",
        "   for sorting--\n",
        "\n",
        "       1.  use .sort()                                       i.e.(list.sort())\n",
        "           (but the problem is it is case sensitive i.e. upper case came before lower case due to ASCII rule)\n",
        "       2.  for revese order make reverse attribute true      i.e (list.sort(reverse=True))  "
      ],
      "metadata": {
        "id": "ZXJmZxncrgz9"
      }
    },
    {
      "cell_type": "code",
      "source": [
        "vegetables = [\"eggplant\",\"broccoli\",\"carrot\",\"cauliflower\",\"zuuchini\"]\n",
        "\n",
        "vegetables.append(\"tomato\")\n",
        "print(vegetables)\n",
        "print()\n",
        "\n",
        "vegetables.sort()\n",
        "print(vegetables)\n",
        "print()\n",
        "\n",
        "vegetables.sort(reverse=True)\n",
        "print(vegetables)\n",
        "print()\n"
      ],
      "metadata": {
        "id": "VDwzPg-8WO_u",
        "colab": {
          "base_uri": "https://localhost:8080/"
        },
        "outputId": "b1688f73-48ee-4a19-8010-4783790191a8"
      },
      "execution_count": 25,
      "outputs": [
        {
          "output_type": "stream",
          "name": "stdout",
          "text": [
            "['eggplant', 'broccoli', 'carrot', 'cauliflower', 'zuuchini', 'tomato']\n",
            "\n",
            "['broccoli', 'carrot', 'cauliflower', 'eggplant', 'tomato', 'zuuchini']\n",
            "\n",
            "['zuuchini', 'tomato', 'eggplant', 'cauliflower', 'carrot', 'broccoli']\n",
            "\n"
          ]
        }
      ]
    },
    {
      "cell_type": "markdown",
      "source": [
        "## Problem statement 5 ---\n",
        "     \n",
        "      Wrtite a function to check a no. is odd or not. Return True if odd\n",
        "\n",
        "\n",
        "\n"
      ],
      "metadata": {
        "id": "CF2kL5kSog_V"
      }
    },
    {
      "cell_type": "markdown",
      "source": [
        "### Solution can be ---"
      ],
      "metadata": {
        "id": "WcrFpenYryPZ"
      }
    },
    {
      "cell_type": "markdown",
      "source": [
        "     1.  firstly we have to take a input from user\n",
        "     2.  it has to be integer input\n",
        "     3.  define function with help of if-else statement\n",
        "     4.  output is True or false\n",
        "     *   you can add check inetger"
      ],
      "metadata": {
        "id": "mWFZztelruf-"
      }
    },
    {
      "cell_type": "code",
      "source": [
        "#function--\n",
        "def odd_checker(user_input):\n",
        "# .isdigit() -- check if the no. id integer or not\n",
        " if user_input.isdigit():\n",
        "    a = int(user_input)\n",
        "    if a % 2 != 0:\n",
        "        return True\n",
        "    else:\n",
        "        return False\n",
        " else:\n",
        "    print(\"Invalid input\")\n",
        "\n",
        "user_input = input(\"Enter a number: \")\n",
        "print(odd_checker(user_input))"
      ],
      "metadata": {
        "id": "a2C7F9aNqnSu",
        "colab": {
          "base_uri": "https://localhost:8080/"
        },
        "outputId": "2868a602-1335-43f4-f76f-dc99c1cb203e"
      },
      "execution_count": 26,
      "outputs": [
        {
          "output_type": "stream",
          "name": "stdout",
          "text": [
            "Enter a number: 23\n",
            "True\n"
          ]
        }
      ]
    },
    {
      "cell_type": "markdown",
      "source": [
        "## Problem statement 6 ---\n",
        "       \n",
        "\n",
        "       Write a function definition named mode that takes in a list of number and returns the most commonly occuring value\n",
        "\n",
        "\n",
        "\n",
        "\n",
        "     "
      ],
      "metadata": {
        "id": "J6bFH6kRtLFM"
      }
    },
    {
      "cell_type": "markdown",
      "source": [
        "### Solution is ---"
      ],
      "metadata": {
        "id": "gn2L9DWGsBKK"
      }
    },
    {
      "cell_type": "markdown",
      "source": [
        "       1.  take input from user using list>map>inegerinput>with split by space\n",
        "       2.  import counter from collections\n",
        "           1. colculate fequecy each data\n",
        "           2. find out which has maximum frequency\n",
        "           3. check for which data that max-freq belongs\n",
        "\n",
        "Though i think using statistic.multimode() will do thing easily.   "
      ],
      "metadata": {
        "id": "wCW1kFXPr52s"
      }
    },
    {
      "cell_type": "code",
      "source": [
        "from collections import Counter\n",
        "\n",
        "# function---\n",
        "def mode(data):\n",
        "  freq = Counter(data)\n",
        "  max_freq = max(freq.values())\n",
        "# here freq.items crate a new list with showing how many time sech element exist\n",
        "  modes = [k for k, f in freq.items() if f == max_freq]\n",
        "# so it basicaslly says gimnes me a list of all numbers(k) whose fequency(f) is equal with max_freq\n",
        "  return modes\n",
        "\n",
        "user_input = list(map(int,input(\"Enter a list of numbers: \").split()))\n",
        "modes = mode(user_input)\n",
        "print()\n",
        "print(\"The mode(s) of the list is/are:\", modes)\n",
        "print()\n",
        "\n",
        "import statistics\n",
        "print(\"modes:\",statistics.multimode(user_input))\n"
      ],
      "metadata": {
        "id": "O0FYXQj7utR5",
        "colab": {
          "base_uri": "https://localhost:8080/"
        },
        "outputId": "aad6d39b-e18c-4c04-eabb-8bbd5d7b2ff2"
      },
      "execution_count": 27,
      "outputs": [
        {
          "output_type": "stream",
          "name": "stdout",
          "text": [
            "Enter a list of numbers: 1 2 3 4 4 3 2 1 2 3 4 5 4 \n",
            "\n",
            "The mode(s) of the list is/are: [4]\n",
            "\n",
            "modes: [4]\n"
          ]
        }
      ]
    },
    {
      "cell_type": "markdown",
      "source": [
        "# Numpy Exercise"
      ],
      "metadata": {
        "id": "BiQtOx1LDk25"
      }
    },
    {
      "cell_type": "markdown",
      "source": [
        "## Problem statement 1 ---\n",
        "\n",
        "       Create a 4x2 ineteger array and Prints its attributes\n",
        "       Note: The element must be a type of unsigned int16.\n",
        "       And print the following Attributes:-\n",
        "          1. The shape of an array.\n",
        "          2. Array dimensions.\n",
        "          3. The Length of each element of the array in bytes\n",
        "\n",
        "\n",
        "      \n"
      ],
      "metadata": {
        "id": "mgcMRdTNEIS2"
      }
    },
    {
      "cell_type": "markdown",
      "source": [
        "### Solution ---"
      ],
      "metadata": {
        "id": "Vu2BVh5GsX3H"
      }
    },
    {
      "cell_type": "markdown",
      "source": [
        "      1. crate an array(4x2) with given datatype\n",
        "      2. calculate shape by .shape\n",
        "      3. calculate dimension by .ndim\n",
        "      4. calculate length of each element by .iemsize"
      ],
      "metadata": {
        "id": "oBu5WQCMsUOV"
      }
    },
    {
      "cell_type": "code",
      "source": [
        "import numpy as np\n",
        "\n",
        "# Create a 4x2 integer array with unsigned int16 data type\n",
        "array_4x2 = np.array([[1, 2], [3, 4], [5, 6], [7, 8]], dtype=np.uint16)\n",
        "\n",
        "# Print the attributes\n",
        "print(\"Shape of the array:\", array_4x2.shape)\n",
        "print(\"Array dimensions:\", array_4x2.ndim)\n",
        "print(\"Length of each element of the array in bytes:\", array_4x2.itemsize)"
      ],
      "metadata": {
        "colab": {
          "base_uri": "https://localhost:8080/"
        },
        "id": "dDiT8XtLFniu",
        "outputId": "9f88e4cd-f54f-434f-946c-161f5958e475"
      },
      "execution_count": 28,
      "outputs": [
        {
          "output_type": "stream",
          "name": "stdout",
          "text": [
            "Shape of the array: (4, 2)\n",
            "Array dimensions: 2\n",
            "Length of each element of the array in bytes: 2\n"
          ]
        }
      ]
    },
    {
      "cell_type": "markdown",
      "source": [
        "## Problem statement 2 ---\n",
        "\n",
        "       Following is the provided numpy array. Return array of itens by taking the third column from all rows .\n",
        "       sampleArray = numpy.array([[11,22,33],[44,55,66,],[77,88,99]])\n",
        "\n",
        "\n",
        "       \n"
      ],
      "metadata": {
        "id": "R9aJUbY4JnC_"
      }
    },
    {
      "cell_type": "markdown",
      "source": [
        "### Solution---"
      ],
      "metadata": {
        "id": "CRI2_q9LshL2"
      }
    },
    {
      "cell_type": "markdown",
      "source": [
        "       1. import numpy\n",
        "       2. write down the array\n",
        "       3. for any array[m,n]--m=no.of rows&n=no.of columns"
      ],
      "metadata": {
        "id": "gA3VXNSgsdyT"
      }
    },
    {
      "cell_type": "code",
      "source": [
        "import numpy as np\n",
        "sampleArray = np.array([[11,22,33],[44,55,66],[77,88,99]])\n",
        "third_column = sampleArray[:, 2]\n",
        "# Bcz. we know that array[m,n]--m=rows&n=columns\n",
        "third_column"
      ],
      "metadata": {
        "id": "ooE7IY7fKUno",
        "colab": {
          "base_uri": "https://localhost:8080/"
        },
        "outputId": "14b6fce9-f902-4115-de29-bd3f66175510"
      },
      "execution_count": 29,
      "outputs": [
        {
          "output_type": "execute_result",
          "data": {
            "text/plain": [
              "array([33, 66, 99])"
            ]
          },
          "metadata": {},
          "execution_count": 29
        }
      ]
    },
    {
      "cell_type": "markdown",
      "source": [
        "## Problem statement 3 ---\n",
        "\n",
        "        sort the foolowing numpy array-\n",
        "        case 1: sort array by the second row\n",
        "        case 2: sort array by the second column\n",
        "\n",
        "\n"
      ],
      "metadata": {
        "id": "ZVQyAeo0MFhf"
      }
    },
    {
      "cell_type": "markdown",
      "source": [
        "### Solution ---"
      ],
      "metadata": {
        "id": "0zIzhs2jsohT"
      }
    },
    {
      "cell_type": "code",
      "source": [
        "import numpy as np\n",
        "arr = np.array([[11, 22, 33],\n",
        "                [44, 55, 66],\n",
        "                [77, 88, 99]])\n",
        "# Case 1: Sort array by the second row\n",
        "# We need to transpose the array, sort by the second column (which was the second row), then transpose back.\n",
        "# np.argsort gives the indices that would sort the array\n",
        "sorted_indices_by_row2 = np.argsort(arr[1, :])\n",
        "sorted_by_row2 = arr[:, sorted_indices_by_row2]\n",
        "print(\"Array sorted by the second row:\")\n",
        "print(sorted_by_row2)\n",
        "\n",
        "# Case 2: Sort array by the second column\n",
        "# Use np.argsort on the second column to get the indices that would sort it.\n",
        "sorted_indices_by_col2 = np.argsort(arr[:, 1])\n",
        "sorted_by_col2 = arr[sorted_indices_by_col2, :]\n",
        "print(\"\\nArray sorted by the second column:\")\n",
        "sorted_by_col2"
      ],
      "metadata": {
        "id": "OuCmiroQOXYF",
        "colab": {
          "base_uri": "https://localhost:8080/"
        },
        "outputId": "e293dd22-42cf-439d-aacb-84dd799de4d0"
      },
      "execution_count": 30,
      "outputs": [
        {
          "output_type": "stream",
          "name": "stdout",
          "text": [
            "Array sorted by the second row:\n",
            "[[11 22 33]\n",
            " [44 55 66]\n",
            " [77 88 99]]\n",
            "\n",
            "Array sorted by the second column:\n"
          ]
        },
        {
          "output_type": "execute_result",
          "data": {
            "text/plain": [
              "array([[11, 22, 33],\n",
              "       [44, 55, 66],\n",
              "       [77, 88, 99]])"
            ]
          },
          "metadata": {},
          "execution_count": 30
        }
      ]
    },
    {
      "cell_type": "markdown",
      "source": [
        "# Pandas Exercise"
      ],
      "metadata": {
        "id": "_d_LRINxQ1o9"
      }
    },
    {
      "cell_type": "markdown",
      "source": [
        "In this esercise, we are using Automobile Dataset analysis. This Dataset for data analysis. This Dataset hasdifferent characteristics of an auton such as body-style, wheel-base, engine-type, price, milega, horsepower, etc.\n",
        "\n",
        "https://pynative.com/wp-content/uploads/2019/01/Automobile_data.csv\n"
      ],
      "metadata": {
        "id": "BaLLpxVHRAzA"
      }
    },
    {
      "cell_type": "markdown",
      "source": [
        "## Problem satement 1 ---\n",
        "\n",
        "      From the given dataset print the first and the last five rows\n",
        "\n",
        "\n"
      ],
      "metadata": {
        "id": "jjW9QJIXTFe3"
      }
    },
    {
      "cell_type": "markdown",
      "source": [
        "### Solution---\n"
      ],
      "metadata": {
        "id": "GWeagzqdsx0f"
      }
    },
    {
      "cell_type": "code",
      "source": [
        "import pandas as pd\n",
        "\n",
        "# Load the dataset\n",
        "from google.colab import files\n",
        "uploaded = files.upload()\n",
        "df = pd.read_csv(\"Automobile_data.csv\")\n",
        "\n",
        "# Print the first five rows\n",
        "print(\"First five rows:\")\n",
        "print(df.head())\n",
        "\n",
        "# Add a newline for better separation\n",
        "print(\"\\n\")\n",
        "\n",
        "# Print the last five rows\n",
        "print(\"Last five rows:\")\n",
        "print(df.tail())\n"
      ],
      "metadata": {
        "id": "A27RQ3DFhI5-",
        "colab": {
          "base_uri": "https://localhost:8080/",
          "height": 593
        },
        "outputId": "637f3579-51c6-4f31-c9b1-9dede8c3409c"
      },
      "execution_count": 31,
      "outputs": [
        {
          "output_type": "display_data",
          "data": {
            "text/plain": [
              "<IPython.core.display.HTML object>"
            ],
            "text/html": [
              "\n",
              "     <input type=\"file\" id=\"files-7a2ea3f5-2d08-4ae3-bd84-4ff2cbb7915b\" name=\"files[]\" multiple disabled\n",
              "        style=\"border:none\" />\n",
              "     <output id=\"result-7a2ea3f5-2d08-4ae3-bd84-4ff2cbb7915b\">\n",
              "      Upload widget is only available when the cell has been executed in the\n",
              "      current browser session. Please rerun this cell to enable.\n",
              "      </output>\n",
              "      <script>// Copyright 2017 Google LLC\n",
              "//\n",
              "// Licensed under the Apache License, Version 2.0 (the \"License\");\n",
              "// you may not use this file except in compliance with the License.\n",
              "// You may obtain a copy of the License at\n",
              "//\n",
              "//      http://www.apache.org/licenses/LICENSE-2.0\n",
              "//\n",
              "// Unless required by applicable law or agreed to in writing, software\n",
              "// distributed under the License is distributed on an \"AS IS\" BASIS,\n",
              "// WITHOUT WARRANTIES OR CONDITIONS OF ANY KIND, either express or implied.\n",
              "// See the License for the specific language governing permissions and\n",
              "// limitations under the License.\n",
              "\n",
              "/**\n",
              " * @fileoverview Helpers for google.colab Python module.\n",
              " */\n",
              "(function(scope) {\n",
              "function span(text, styleAttributes = {}) {\n",
              "  const element = document.createElement('span');\n",
              "  element.textContent = text;\n",
              "  for (const key of Object.keys(styleAttributes)) {\n",
              "    element.style[key] = styleAttributes[key];\n",
              "  }\n",
              "  return element;\n",
              "}\n",
              "\n",
              "// Max number of bytes which will be uploaded at a time.\n",
              "const MAX_PAYLOAD_SIZE = 100 * 1024;\n",
              "\n",
              "function _uploadFiles(inputId, outputId) {\n",
              "  const steps = uploadFilesStep(inputId, outputId);\n",
              "  const outputElement = document.getElementById(outputId);\n",
              "  // Cache steps on the outputElement to make it available for the next call\n",
              "  // to uploadFilesContinue from Python.\n",
              "  outputElement.steps = steps;\n",
              "\n",
              "  return _uploadFilesContinue(outputId);\n",
              "}\n",
              "\n",
              "// This is roughly an async generator (not supported in the browser yet),\n",
              "// where there are multiple asynchronous steps and the Python side is going\n",
              "// to poll for completion of each step.\n",
              "// This uses a Promise to block the python side on completion of each step,\n",
              "// then passes the result of the previous step as the input to the next step.\n",
              "function _uploadFilesContinue(outputId) {\n",
              "  const outputElement = document.getElementById(outputId);\n",
              "  const steps = outputElement.steps;\n",
              "\n",
              "  const next = steps.next(outputElement.lastPromiseValue);\n",
              "  return Promise.resolve(next.value.promise).then((value) => {\n",
              "    // Cache the last promise value to make it available to the next\n",
              "    // step of the generator.\n",
              "    outputElement.lastPromiseValue = value;\n",
              "    return next.value.response;\n",
              "  });\n",
              "}\n",
              "\n",
              "/**\n",
              " * Generator function which is called between each async step of the upload\n",
              " * process.\n",
              " * @param {string} inputId Element ID of the input file picker element.\n",
              " * @param {string} outputId Element ID of the output display.\n",
              " * @return {!Iterable<!Object>} Iterable of next steps.\n",
              " */\n",
              "function* uploadFilesStep(inputId, outputId) {\n",
              "  const inputElement = document.getElementById(inputId);\n",
              "  inputElement.disabled = false;\n",
              "\n",
              "  const outputElement = document.getElementById(outputId);\n",
              "  outputElement.innerHTML = '';\n",
              "\n",
              "  const pickedPromise = new Promise((resolve) => {\n",
              "    inputElement.addEventListener('change', (e) => {\n",
              "      resolve(e.target.files);\n",
              "    });\n",
              "  });\n",
              "\n",
              "  const cancel = document.createElement('button');\n",
              "  inputElement.parentElement.appendChild(cancel);\n",
              "  cancel.textContent = 'Cancel upload';\n",
              "  const cancelPromise = new Promise((resolve) => {\n",
              "    cancel.onclick = () => {\n",
              "      resolve(null);\n",
              "    };\n",
              "  });\n",
              "\n",
              "  // Wait for the user to pick the files.\n",
              "  const files = yield {\n",
              "    promise: Promise.race([pickedPromise, cancelPromise]),\n",
              "    response: {\n",
              "      action: 'starting',\n",
              "    }\n",
              "  };\n",
              "\n",
              "  cancel.remove();\n",
              "\n",
              "  // Disable the input element since further picks are not allowed.\n",
              "  inputElement.disabled = true;\n",
              "\n",
              "  if (!files) {\n",
              "    return {\n",
              "      response: {\n",
              "        action: 'complete',\n",
              "      }\n",
              "    };\n",
              "  }\n",
              "\n",
              "  for (const file of files) {\n",
              "    const li = document.createElement('li');\n",
              "    li.append(span(file.name, {fontWeight: 'bold'}));\n",
              "    li.append(span(\n",
              "        `(${file.type || 'n/a'}) - ${file.size} bytes, ` +\n",
              "        `last modified: ${\n",
              "            file.lastModifiedDate ? file.lastModifiedDate.toLocaleDateString() :\n",
              "                                    'n/a'} - `));\n",
              "    const percent = span('0% done');\n",
              "    li.appendChild(percent);\n",
              "\n",
              "    outputElement.appendChild(li);\n",
              "\n",
              "    const fileDataPromise = new Promise((resolve) => {\n",
              "      const reader = new FileReader();\n",
              "      reader.onload = (e) => {\n",
              "        resolve(e.target.result);\n",
              "      };\n",
              "      reader.readAsArrayBuffer(file);\n",
              "    });\n",
              "    // Wait for the data to be ready.\n",
              "    let fileData = yield {\n",
              "      promise: fileDataPromise,\n",
              "      response: {\n",
              "        action: 'continue',\n",
              "      }\n",
              "    };\n",
              "\n",
              "    // Use a chunked sending to avoid message size limits. See b/62115660.\n",
              "    let position = 0;\n",
              "    do {\n",
              "      const length = Math.min(fileData.byteLength - position, MAX_PAYLOAD_SIZE);\n",
              "      const chunk = new Uint8Array(fileData, position, length);\n",
              "      position += length;\n",
              "\n",
              "      const base64 = btoa(String.fromCharCode.apply(null, chunk));\n",
              "      yield {\n",
              "        response: {\n",
              "          action: 'append',\n",
              "          file: file.name,\n",
              "          data: base64,\n",
              "        },\n",
              "      };\n",
              "\n",
              "      let percentDone = fileData.byteLength === 0 ?\n",
              "          100 :\n",
              "          Math.round((position / fileData.byteLength) * 100);\n",
              "      percent.textContent = `${percentDone}% done`;\n",
              "\n",
              "    } while (position < fileData.byteLength);\n",
              "  }\n",
              "\n",
              "  // All done.\n",
              "  yield {\n",
              "    response: {\n",
              "      action: 'complete',\n",
              "    }\n",
              "  };\n",
              "}\n",
              "\n",
              "scope.google = scope.google || {};\n",
              "scope.google.colab = scope.google.colab || {};\n",
              "scope.google.colab._files = {\n",
              "  _uploadFiles,\n",
              "  _uploadFilesContinue,\n",
              "};\n",
              "})(self);\n",
              "</script> "
            ]
          },
          "metadata": {}
        },
        {
          "output_type": "stream",
          "name": "stdout",
          "text": [
            "Saving Automobile_data.csv to Automobile_data (7).csv\n",
            "First five rows:\n",
            "   index      company   body-style  wheel-base  length engine-type  \\\n",
            "0      0  alfa-romero  convertible        88.6   168.8        dohc   \n",
            "1      1  alfa-romero  convertible        88.6   168.8        dohc   \n",
            "2      2  alfa-romero    hatchback        94.5   171.2        ohcv   \n",
            "3      3         audi        sedan        99.8   176.6         ohc   \n",
            "4      4         audi        sedan        99.4   176.6         ohc   \n",
            "\n",
            "  num-of-cylinders  horsepower  average-mileage    price  \n",
            "0             four         111               21  13495.0  \n",
            "1             four         111               21  16500.0  \n",
            "2              six         154               19  16500.0  \n",
            "3             four         102               24  13950.0  \n",
            "4             five         115               18  17450.0  \n",
            "\n",
            "\n",
            "Last five rows:\n",
            "    index     company body-style  wheel-base  length engine-type  \\\n",
            "56     81  volkswagen      sedan        97.3   171.7         ohc   \n",
            "57     82  volkswagen      sedan        97.3   171.7         ohc   \n",
            "58     86  volkswagen      sedan        97.3   171.7         ohc   \n",
            "59     87       volvo      sedan       104.3   188.8         ohc   \n",
            "60     88       volvo      wagon       104.3   188.8         ohc   \n",
            "\n",
            "   num-of-cylinders  horsepower  average-mileage    price  \n",
            "56             four          85               27   7975.0  \n",
            "57             four          52               37   7995.0  \n",
            "58             four         100               26   9995.0  \n",
            "59             four         114               23  12940.0  \n",
            "60             four         114               23  13415.0  \n"
          ]
        }
      ]
    },
    {
      "cell_type": "markdown",
      "source": [
        "## Problem statement 2 ---\n",
        "\n",
        "      Replace all coloumn values which contain ?, n.a., or NAN with suitable values print the updated Dataset.\n",
        "\n"
      ],
      "metadata": {
        "id": "plVMzHJmUOFg"
      }
    },
    {
      "cell_type": "markdown",
      "source": [
        "### Solution ---"
      ],
      "metadata": {
        "id": "MmXp3k3Ws6XZ"
      }
    },
    {
      "cell_type": "code",
      "source": [
        "import pandas as pd\n",
        "import numpy as np\n",
        "\n",
        "# Upload the file\n",
        "from google.colab import files\n",
        "uploaded = files.upload()\n",
        "\n",
        "# Read the CSV file\n",
        "df = pd.read_csv(\"Automobile_data.csv\", na_values=[\"?\", \"n.a.\", \"NAN\"])\n",
        "\n",
        "# Fill missing values\n",
        "# Fill numeric columns with mean\n",
        "# Fill object/string columns with mode (most frequent)\n",
        "\n",
        "for col in df.columns:\n",
        "    if df[col].dtype == 'object':\n",
        "        df[col].fillna(df[col].mode()[0], inplace=True)\n",
        "    else:\n",
        "        df[col].fillna(df[col].mean(), inplace=True)\n",
        "\n",
        "# Print the updated DataFrame\n",
        "print(\"\\nUpdated Dataset Preview:\\n\", df.head())"
      ],
      "metadata": {
        "id": "Yn60EoTJi0J7",
        "colab": {
          "base_uri": "https://localhost:8080/",
          "height": 596
        },
        "outputId": "fb728e30-9a88-4f73-c3cd-a542bd9c65fb"
      },
      "execution_count": 32,
      "outputs": [
        {
          "output_type": "display_data",
          "data": {
            "text/plain": [
              "<IPython.core.display.HTML object>"
            ],
            "text/html": [
              "\n",
              "     <input type=\"file\" id=\"files-8433d600-bcde-4af0-a0c4-e2a902eacbe6\" name=\"files[]\" multiple disabled\n",
              "        style=\"border:none\" />\n",
              "     <output id=\"result-8433d600-bcde-4af0-a0c4-e2a902eacbe6\">\n",
              "      Upload widget is only available when the cell has been executed in the\n",
              "      current browser session. Please rerun this cell to enable.\n",
              "      </output>\n",
              "      <script>// Copyright 2017 Google LLC\n",
              "//\n",
              "// Licensed under the Apache License, Version 2.0 (the \"License\");\n",
              "// you may not use this file except in compliance with the License.\n",
              "// You may obtain a copy of the License at\n",
              "//\n",
              "//      http://www.apache.org/licenses/LICENSE-2.0\n",
              "//\n",
              "// Unless required by applicable law or agreed to in writing, software\n",
              "// distributed under the License is distributed on an \"AS IS\" BASIS,\n",
              "// WITHOUT WARRANTIES OR CONDITIONS OF ANY KIND, either express or implied.\n",
              "// See the License for the specific language governing permissions and\n",
              "// limitations under the License.\n",
              "\n",
              "/**\n",
              " * @fileoverview Helpers for google.colab Python module.\n",
              " */\n",
              "(function(scope) {\n",
              "function span(text, styleAttributes = {}) {\n",
              "  const element = document.createElement('span');\n",
              "  element.textContent = text;\n",
              "  for (const key of Object.keys(styleAttributes)) {\n",
              "    element.style[key] = styleAttributes[key];\n",
              "  }\n",
              "  return element;\n",
              "}\n",
              "\n",
              "// Max number of bytes which will be uploaded at a time.\n",
              "const MAX_PAYLOAD_SIZE = 100 * 1024;\n",
              "\n",
              "function _uploadFiles(inputId, outputId) {\n",
              "  const steps = uploadFilesStep(inputId, outputId);\n",
              "  const outputElement = document.getElementById(outputId);\n",
              "  // Cache steps on the outputElement to make it available for the next call\n",
              "  // to uploadFilesContinue from Python.\n",
              "  outputElement.steps = steps;\n",
              "\n",
              "  return _uploadFilesContinue(outputId);\n",
              "}\n",
              "\n",
              "// This is roughly an async generator (not supported in the browser yet),\n",
              "// where there are multiple asynchronous steps and the Python side is going\n",
              "// to poll for completion of each step.\n",
              "// This uses a Promise to block the python side on completion of each step,\n",
              "// then passes the result of the previous step as the input to the next step.\n",
              "function _uploadFilesContinue(outputId) {\n",
              "  const outputElement = document.getElementById(outputId);\n",
              "  const steps = outputElement.steps;\n",
              "\n",
              "  const next = steps.next(outputElement.lastPromiseValue);\n",
              "  return Promise.resolve(next.value.promise).then((value) => {\n",
              "    // Cache the last promise value to make it available to the next\n",
              "    // step of the generator.\n",
              "    outputElement.lastPromiseValue = value;\n",
              "    return next.value.response;\n",
              "  });\n",
              "}\n",
              "\n",
              "/**\n",
              " * Generator function which is called between each async step of the upload\n",
              " * process.\n",
              " * @param {string} inputId Element ID of the input file picker element.\n",
              " * @param {string} outputId Element ID of the output display.\n",
              " * @return {!Iterable<!Object>} Iterable of next steps.\n",
              " */\n",
              "function* uploadFilesStep(inputId, outputId) {\n",
              "  const inputElement = document.getElementById(inputId);\n",
              "  inputElement.disabled = false;\n",
              "\n",
              "  const outputElement = document.getElementById(outputId);\n",
              "  outputElement.innerHTML = '';\n",
              "\n",
              "  const pickedPromise = new Promise((resolve) => {\n",
              "    inputElement.addEventListener('change', (e) => {\n",
              "      resolve(e.target.files);\n",
              "    });\n",
              "  });\n",
              "\n",
              "  const cancel = document.createElement('button');\n",
              "  inputElement.parentElement.appendChild(cancel);\n",
              "  cancel.textContent = 'Cancel upload';\n",
              "  const cancelPromise = new Promise((resolve) => {\n",
              "    cancel.onclick = () => {\n",
              "      resolve(null);\n",
              "    };\n",
              "  });\n",
              "\n",
              "  // Wait for the user to pick the files.\n",
              "  const files = yield {\n",
              "    promise: Promise.race([pickedPromise, cancelPromise]),\n",
              "    response: {\n",
              "      action: 'starting',\n",
              "    }\n",
              "  };\n",
              "\n",
              "  cancel.remove();\n",
              "\n",
              "  // Disable the input element since further picks are not allowed.\n",
              "  inputElement.disabled = true;\n",
              "\n",
              "  if (!files) {\n",
              "    return {\n",
              "      response: {\n",
              "        action: 'complete',\n",
              "      }\n",
              "    };\n",
              "  }\n",
              "\n",
              "  for (const file of files) {\n",
              "    const li = document.createElement('li');\n",
              "    li.append(span(file.name, {fontWeight: 'bold'}));\n",
              "    li.append(span(\n",
              "        `(${file.type || 'n/a'}) - ${file.size} bytes, ` +\n",
              "        `last modified: ${\n",
              "            file.lastModifiedDate ? file.lastModifiedDate.toLocaleDateString() :\n",
              "                                    'n/a'} - `));\n",
              "    const percent = span('0% done');\n",
              "    li.appendChild(percent);\n",
              "\n",
              "    outputElement.appendChild(li);\n",
              "\n",
              "    const fileDataPromise = new Promise((resolve) => {\n",
              "      const reader = new FileReader();\n",
              "      reader.onload = (e) => {\n",
              "        resolve(e.target.result);\n",
              "      };\n",
              "      reader.readAsArrayBuffer(file);\n",
              "    });\n",
              "    // Wait for the data to be ready.\n",
              "    let fileData = yield {\n",
              "      promise: fileDataPromise,\n",
              "      response: {\n",
              "        action: 'continue',\n",
              "      }\n",
              "    };\n",
              "\n",
              "    // Use a chunked sending to avoid message size limits. See b/62115660.\n",
              "    let position = 0;\n",
              "    do {\n",
              "      const length = Math.min(fileData.byteLength - position, MAX_PAYLOAD_SIZE);\n",
              "      const chunk = new Uint8Array(fileData, position, length);\n",
              "      position += length;\n",
              "\n",
              "      const base64 = btoa(String.fromCharCode.apply(null, chunk));\n",
              "      yield {\n",
              "        response: {\n",
              "          action: 'append',\n",
              "          file: file.name,\n",
              "          data: base64,\n",
              "        },\n",
              "      };\n",
              "\n",
              "      let percentDone = fileData.byteLength === 0 ?\n",
              "          100 :\n",
              "          Math.round((position / fileData.byteLength) * 100);\n",
              "      percent.textContent = `${percentDone}% done`;\n",
              "\n",
              "    } while (position < fileData.byteLength);\n",
              "  }\n",
              "\n",
              "  // All done.\n",
              "  yield {\n",
              "    response: {\n",
              "      action: 'complete',\n",
              "    }\n",
              "  };\n",
              "}\n",
              "\n",
              "scope.google = scope.google || {};\n",
              "scope.google.colab = scope.google.colab || {};\n",
              "scope.google.colab._files = {\n",
              "  _uploadFiles,\n",
              "  _uploadFilesContinue,\n",
              "};\n",
              "})(self);\n",
              "</script> "
            ]
          },
          "metadata": {}
        },
        {
          "output_type": "stream",
          "name": "stdout",
          "text": [
            "Saving Automobile_data.csv to Automobile_data (8).csv\n",
            "\n",
            "Updated Dataset Preview:\n",
            "    index      company   body-style  wheel-base  length engine-type  \\\n",
            "0      0  alfa-romero  convertible        88.6   168.8        dohc   \n",
            "1      1  alfa-romero  convertible        88.6   168.8        dohc   \n",
            "2      2  alfa-romero    hatchback        94.5   171.2        ohcv   \n",
            "3      3         audi        sedan        99.8   176.6         ohc   \n",
            "4      4         audi        sedan        99.4   176.6         ohc   \n",
            "\n",
            "  num-of-cylinders  horsepower  average-mileage    price  \n",
            "0             four         111               21  13495.0  \n",
            "1             four         111               21  16500.0  \n",
            "2              six         154               19  16500.0  \n",
            "3             four         102               24  13950.0  \n",
            "4             five         115               18  17450.0  \n"
          ]
        },
        {
          "output_type": "stream",
          "name": "stderr",
          "text": [
            "<ipython-input-32-7fce83125ba4>:19: FutureWarning: A value is trying to be set on a copy of a DataFrame or Series through chained assignment using an inplace method.\n",
            "The behavior will change in pandas 3.0. This inplace method will never work because the intermediate object on which we are setting values always behaves as a copy.\n",
            "\n",
            "For example, when doing 'df[col].method(value, inplace=True)', try using 'df.method({col: value}, inplace=True)' or df[col] = df[col].method(value) instead, to perform the operation inplace on the original object.\n",
            "\n",
            "\n",
            "  df[col].fillna(df[col].mean(), inplace=True)\n",
            "<ipython-input-32-7fce83125ba4>:17: FutureWarning: A value is trying to be set on a copy of a DataFrame or Series through chained assignment using an inplace method.\n",
            "The behavior will change in pandas 3.0. This inplace method will never work because the intermediate object on which we are setting values always behaves as a copy.\n",
            "\n",
            "For example, when doing 'df[col].method(value, inplace=True)', try using 'df.method({col: value}, inplace=True)' or df[col] = df[col].method(value) instead, to perform the operation inplace on the original object.\n",
            "\n",
            "\n",
            "  df[col].fillna(df[col].mode()[0], inplace=True)\n"
          ]
        }
      ]
    },
    {
      "cell_type": "markdown",
      "source": [
        "## Problem statement 3 ---\n",
        "\n",
        "       Count total cars per company and print them\n"
      ],
      "metadata": {
        "id": "6vwD6WsFVAGo"
      }
    },
    {
      "cell_type": "markdown",
      "source": [
        "\n",
        "### Solution ---"
      ],
      "metadata": {
        "id": "uhImm6GTtAdi"
      }
    },
    {
      "cell_type": "code",
      "source": [
        "import pandas as pd\n",
        "\n",
        "# Load the dataset\n",
        "from google.colab import files\n",
        "uploaded = files.upload()\n",
        "df = pd.read_csv(\"Automobile_data.csv\")\n",
        "\n",
        "# Count the occurrences(cars) of each company\n",
        "car_counts = df['company'].value_counts()\n",
        "\n",
        "# Print the counts\n",
        "print(\"\\nTotal cars per company:\")\n",
        "print(car_counts)"
      ],
      "metadata": {
        "id": "H9WEWPVSVx7L",
        "colab": {
          "base_uri": "https://localhost:8080/",
          "height": 420
        },
        "outputId": "f8c493eb-4f5c-40c5-e0b0-cdf99e58c256"
      },
      "execution_count": 33,
      "outputs": [
        {
          "output_type": "display_data",
          "data": {
            "text/plain": [
              "<IPython.core.display.HTML object>"
            ],
            "text/html": [
              "\n",
              "     <input type=\"file\" id=\"files-06341b29-3719-42fb-9c48-11e0eb7b9fdf\" name=\"files[]\" multiple disabled\n",
              "        style=\"border:none\" />\n",
              "     <output id=\"result-06341b29-3719-42fb-9c48-11e0eb7b9fdf\">\n",
              "      Upload widget is only available when the cell has been executed in the\n",
              "      current browser session. Please rerun this cell to enable.\n",
              "      </output>\n",
              "      <script>// Copyright 2017 Google LLC\n",
              "//\n",
              "// Licensed under the Apache License, Version 2.0 (the \"License\");\n",
              "// you may not use this file except in compliance with the License.\n",
              "// You may obtain a copy of the License at\n",
              "//\n",
              "//      http://www.apache.org/licenses/LICENSE-2.0\n",
              "//\n",
              "// Unless required by applicable law or agreed to in writing, software\n",
              "// distributed under the License is distributed on an \"AS IS\" BASIS,\n",
              "// WITHOUT WARRANTIES OR CONDITIONS OF ANY KIND, either express or implied.\n",
              "// See the License for the specific language governing permissions and\n",
              "// limitations under the License.\n",
              "\n",
              "/**\n",
              " * @fileoverview Helpers for google.colab Python module.\n",
              " */\n",
              "(function(scope) {\n",
              "function span(text, styleAttributes = {}) {\n",
              "  const element = document.createElement('span');\n",
              "  element.textContent = text;\n",
              "  for (const key of Object.keys(styleAttributes)) {\n",
              "    element.style[key] = styleAttributes[key];\n",
              "  }\n",
              "  return element;\n",
              "}\n",
              "\n",
              "// Max number of bytes which will be uploaded at a time.\n",
              "const MAX_PAYLOAD_SIZE = 100 * 1024;\n",
              "\n",
              "function _uploadFiles(inputId, outputId) {\n",
              "  const steps = uploadFilesStep(inputId, outputId);\n",
              "  const outputElement = document.getElementById(outputId);\n",
              "  // Cache steps on the outputElement to make it available for the next call\n",
              "  // to uploadFilesContinue from Python.\n",
              "  outputElement.steps = steps;\n",
              "\n",
              "  return _uploadFilesContinue(outputId);\n",
              "}\n",
              "\n",
              "// This is roughly an async generator (not supported in the browser yet),\n",
              "// where there are multiple asynchronous steps and the Python side is going\n",
              "// to poll for completion of each step.\n",
              "// This uses a Promise to block the python side on completion of each step,\n",
              "// then passes the result of the previous step as the input to the next step.\n",
              "function _uploadFilesContinue(outputId) {\n",
              "  const outputElement = document.getElementById(outputId);\n",
              "  const steps = outputElement.steps;\n",
              "\n",
              "  const next = steps.next(outputElement.lastPromiseValue);\n",
              "  return Promise.resolve(next.value.promise).then((value) => {\n",
              "    // Cache the last promise value to make it available to the next\n",
              "    // step of the generator.\n",
              "    outputElement.lastPromiseValue = value;\n",
              "    return next.value.response;\n",
              "  });\n",
              "}\n",
              "\n",
              "/**\n",
              " * Generator function which is called between each async step of the upload\n",
              " * process.\n",
              " * @param {string} inputId Element ID of the input file picker element.\n",
              " * @param {string} outputId Element ID of the output display.\n",
              " * @return {!Iterable<!Object>} Iterable of next steps.\n",
              " */\n",
              "function* uploadFilesStep(inputId, outputId) {\n",
              "  const inputElement = document.getElementById(inputId);\n",
              "  inputElement.disabled = false;\n",
              "\n",
              "  const outputElement = document.getElementById(outputId);\n",
              "  outputElement.innerHTML = '';\n",
              "\n",
              "  const pickedPromise = new Promise((resolve) => {\n",
              "    inputElement.addEventListener('change', (e) => {\n",
              "      resolve(e.target.files);\n",
              "    });\n",
              "  });\n",
              "\n",
              "  const cancel = document.createElement('button');\n",
              "  inputElement.parentElement.appendChild(cancel);\n",
              "  cancel.textContent = 'Cancel upload';\n",
              "  const cancelPromise = new Promise((resolve) => {\n",
              "    cancel.onclick = () => {\n",
              "      resolve(null);\n",
              "    };\n",
              "  });\n",
              "\n",
              "  // Wait for the user to pick the files.\n",
              "  const files = yield {\n",
              "    promise: Promise.race([pickedPromise, cancelPromise]),\n",
              "    response: {\n",
              "      action: 'starting',\n",
              "    }\n",
              "  };\n",
              "\n",
              "  cancel.remove();\n",
              "\n",
              "  // Disable the input element since further picks are not allowed.\n",
              "  inputElement.disabled = true;\n",
              "\n",
              "  if (!files) {\n",
              "    return {\n",
              "      response: {\n",
              "        action: 'complete',\n",
              "      }\n",
              "    };\n",
              "  }\n",
              "\n",
              "  for (const file of files) {\n",
              "    const li = document.createElement('li');\n",
              "    li.append(span(file.name, {fontWeight: 'bold'}));\n",
              "    li.append(span(\n",
              "        `(${file.type || 'n/a'}) - ${file.size} bytes, ` +\n",
              "        `last modified: ${\n",
              "            file.lastModifiedDate ? file.lastModifiedDate.toLocaleDateString() :\n",
              "                                    'n/a'} - `));\n",
              "    const percent = span('0% done');\n",
              "    li.appendChild(percent);\n",
              "\n",
              "    outputElement.appendChild(li);\n",
              "\n",
              "    const fileDataPromise = new Promise((resolve) => {\n",
              "      const reader = new FileReader();\n",
              "      reader.onload = (e) => {\n",
              "        resolve(e.target.result);\n",
              "      };\n",
              "      reader.readAsArrayBuffer(file);\n",
              "    });\n",
              "    // Wait for the data to be ready.\n",
              "    let fileData = yield {\n",
              "      promise: fileDataPromise,\n",
              "      response: {\n",
              "        action: 'continue',\n",
              "      }\n",
              "    };\n",
              "\n",
              "    // Use a chunked sending to avoid message size limits. See b/62115660.\n",
              "    let position = 0;\n",
              "    do {\n",
              "      const length = Math.min(fileData.byteLength - position, MAX_PAYLOAD_SIZE);\n",
              "      const chunk = new Uint8Array(fileData, position, length);\n",
              "      position += length;\n",
              "\n",
              "      const base64 = btoa(String.fromCharCode.apply(null, chunk));\n",
              "      yield {\n",
              "        response: {\n",
              "          action: 'append',\n",
              "          file: file.name,\n",
              "          data: base64,\n",
              "        },\n",
              "      };\n",
              "\n",
              "      let percentDone = fileData.byteLength === 0 ?\n",
              "          100 :\n",
              "          Math.round((position / fileData.byteLength) * 100);\n",
              "      percent.textContent = `${percentDone}% done`;\n",
              "\n",
              "    } while (position < fileData.byteLength);\n",
              "  }\n",
              "\n",
              "  // All done.\n",
              "  yield {\n",
              "    response: {\n",
              "      action: 'complete',\n",
              "    }\n",
              "  };\n",
              "}\n",
              "\n",
              "scope.google = scope.google || {};\n",
              "scope.google.colab = scope.google.colab || {};\n",
              "scope.google.colab._files = {\n",
              "  _uploadFiles,\n",
              "  _uploadFilesContinue,\n",
              "};\n",
              "})(self);\n",
              "</script> "
            ]
          },
          "metadata": {}
        },
        {
          "output_type": "stream",
          "name": "stdout",
          "text": [
            "Saving Automobile_data.csv to Automobile_data (9).csv\n",
            "\n",
            "Total cars per company:\n",
            "company\n",
            "toyota           7\n",
            "bmw              6\n",
            "mazda            5\n",
            "nissan           5\n",
            "mercedes-benz    4\n",
            "audi             4\n",
            "volkswagen       4\n",
            "mitsubishi       4\n",
            "chevrolet        3\n",
            "jaguar           3\n",
            "isuzu            3\n",
            "honda            3\n",
            "porsche          3\n",
            "alfa-romero      3\n",
            "dodge            2\n",
            "volvo            2\n",
            "Name: count, dtype: int64\n"
          ]
        }
      ]
    },
    {
      "cell_type": "markdown",
      "source": [
        "# Matplotlib Exercise\n"
      ],
      "metadata": {
        "id": "out6Zj09V-yU"
      }
    },
    {
      "cell_type": "markdown",
      "source": [
        "Use the following CSV file for this exercise. Read this file using pandas or Numpy or using inbuilt matplotlib function.\n",
        "\n",
        "https://pynative.com/wp-content/uploads/2019/01/company_sales_data.csv"
      ],
      "metadata": {
        "id": "bHIFQTBQpl2-"
      }
    },
    {
      "cell_type": "markdown",
      "source": [
        "## Problem statement 1 ---\n",
        "\n",
        "       Read Total profit of all months and show it using a line plot\n",
        "       Total profit data provided of each month. Generated line plot must include the following properties:-\n",
        "\n",
        "       X lable name = Month Number\n",
        "       Y lable name = Total profit\n",
        "\n",
        "\n",
        "       "
      ],
      "metadata": {
        "id": "5X9fjTlKXG-z"
      }
    },
    {
      "cell_type": "markdown",
      "source": [
        "### Solution ---"
      ],
      "metadata": {
        "id": "EyrdzFnNtJ6p"
      }
    },
    {
      "cell_type": "code",
      "source": [
        "import pandas as pd\n",
        "import matplotlib.pyplot as plt\n",
        "\n",
        "# Load the dataset\n",
        "from google.colab import files\n",
        "uploaded = files.upload()\n",
        "df = pd.read_csv(\"company_sales_data.csv\")\n",
        "\n",
        "# Extract month number and total profit\n",
        "month_number = df['month_number']\n",
        "total_profit = df['total_profit']\n",
        "\n",
        "# Create the line plot\n",
        "plt.plot(month_number, total_profit )\n",
        "\n",
        "# Set labels\n",
        "plt.xlabel('Month Number')\n",
        "plt.ylabel('Total profit')\n",
        "\n",
        "# Add title (optional)\n",
        "plt.title('Total Profit per Month')\n",
        "\n",
        "# Show the plot\n",
        "plt.show()\n"
      ],
      "metadata": {
        "id": "KRrplRWbUTh9",
        "colab": {
          "base_uri": "https://localhost:8080/",
          "height": 528
        },
        "outputId": "bb7b151a-7218-43f0-8c0d-a63e2405ae87"
      },
      "execution_count": 34,
      "outputs": [
        {
          "output_type": "display_data",
          "data": {
            "text/plain": [
              "<IPython.core.display.HTML object>"
            ],
            "text/html": [
              "\n",
              "     <input type=\"file\" id=\"files-2518aee2-fe1d-4fcd-95a2-d1a510ddaad0\" name=\"files[]\" multiple disabled\n",
              "        style=\"border:none\" />\n",
              "     <output id=\"result-2518aee2-fe1d-4fcd-95a2-d1a510ddaad0\">\n",
              "      Upload widget is only available when the cell has been executed in the\n",
              "      current browser session. Please rerun this cell to enable.\n",
              "      </output>\n",
              "      <script>// Copyright 2017 Google LLC\n",
              "//\n",
              "// Licensed under the Apache License, Version 2.0 (the \"License\");\n",
              "// you may not use this file except in compliance with the License.\n",
              "// You may obtain a copy of the License at\n",
              "//\n",
              "//      http://www.apache.org/licenses/LICENSE-2.0\n",
              "//\n",
              "// Unless required by applicable law or agreed to in writing, software\n",
              "// distributed under the License is distributed on an \"AS IS\" BASIS,\n",
              "// WITHOUT WARRANTIES OR CONDITIONS OF ANY KIND, either express or implied.\n",
              "// See the License for the specific language governing permissions and\n",
              "// limitations under the License.\n",
              "\n",
              "/**\n",
              " * @fileoverview Helpers for google.colab Python module.\n",
              " */\n",
              "(function(scope) {\n",
              "function span(text, styleAttributes = {}) {\n",
              "  const element = document.createElement('span');\n",
              "  element.textContent = text;\n",
              "  for (const key of Object.keys(styleAttributes)) {\n",
              "    element.style[key] = styleAttributes[key];\n",
              "  }\n",
              "  return element;\n",
              "}\n",
              "\n",
              "// Max number of bytes which will be uploaded at a time.\n",
              "const MAX_PAYLOAD_SIZE = 100 * 1024;\n",
              "\n",
              "function _uploadFiles(inputId, outputId) {\n",
              "  const steps = uploadFilesStep(inputId, outputId);\n",
              "  const outputElement = document.getElementById(outputId);\n",
              "  // Cache steps on the outputElement to make it available for the next call\n",
              "  // to uploadFilesContinue from Python.\n",
              "  outputElement.steps = steps;\n",
              "\n",
              "  return _uploadFilesContinue(outputId);\n",
              "}\n",
              "\n",
              "// This is roughly an async generator (not supported in the browser yet),\n",
              "// where there are multiple asynchronous steps and the Python side is going\n",
              "// to poll for completion of each step.\n",
              "// This uses a Promise to block the python side on completion of each step,\n",
              "// then passes the result of the previous step as the input to the next step.\n",
              "function _uploadFilesContinue(outputId) {\n",
              "  const outputElement = document.getElementById(outputId);\n",
              "  const steps = outputElement.steps;\n",
              "\n",
              "  const next = steps.next(outputElement.lastPromiseValue);\n",
              "  return Promise.resolve(next.value.promise).then((value) => {\n",
              "    // Cache the last promise value to make it available to the next\n",
              "    // step of the generator.\n",
              "    outputElement.lastPromiseValue = value;\n",
              "    return next.value.response;\n",
              "  });\n",
              "}\n",
              "\n",
              "/**\n",
              " * Generator function which is called between each async step of the upload\n",
              " * process.\n",
              " * @param {string} inputId Element ID of the input file picker element.\n",
              " * @param {string} outputId Element ID of the output display.\n",
              " * @return {!Iterable<!Object>} Iterable of next steps.\n",
              " */\n",
              "function* uploadFilesStep(inputId, outputId) {\n",
              "  const inputElement = document.getElementById(inputId);\n",
              "  inputElement.disabled = false;\n",
              "\n",
              "  const outputElement = document.getElementById(outputId);\n",
              "  outputElement.innerHTML = '';\n",
              "\n",
              "  const pickedPromise = new Promise((resolve) => {\n",
              "    inputElement.addEventListener('change', (e) => {\n",
              "      resolve(e.target.files);\n",
              "    });\n",
              "  });\n",
              "\n",
              "  const cancel = document.createElement('button');\n",
              "  inputElement.parentElement.appendChild(cancel);\n",
              "  cancel.textContent = 'Cancel upload';\n",
              "  const cancelPromise = new Promise((resolve) => {\n",
              "    cancel.onclick = () => {\n",
              "      resolve(null);\n",
              "    };\n",
              "  });\n",
              "\n",
              "  // Wait for the user to pick the files.\n",
              "  const files = yield {\n",
              "    promise: Promise.race([pickedPromise, cancelPromise]),\n",
              "    response: {\n",
              "      action: 'starting',\n",
              "    }\n",
              "  };\n",
              "\n",
              "  cancel.remove();\n",
              "\n",
              "  // Disable the input element since further picks are not allowed.\n",
              "  inputElement.disabled = true;\n",
              "\n",
              "  if (!files) {\n",
              "    return {\n",
              "      response: {\n",
              "        action: 'complete',\n",
              "      }\n",
              "    };\n",
              "  }\n",
              "\n",
              "  for (const file of files) {\n",
              "    const li = document.createElement('li');\n",
              "    li.append(span(file.name, {fontWeight: 'bold'}));\n",
              "    li.append(span(\n",
              "        `(${file.type || 'n/a'}) - ${file.size} bytes, ` +\n",
              "        `last modified: ${\n",
              "            file.lastModifiedDate ? file.lastModifiedDate.toLocaleDateString() :\n",
              "                                    'n/a'} - `));\n",
              "    const percent = span('0% done');\n",
              "    li.appendChild(percent);\n",
              "\n",
              "    outputElement.appendChild(li);\n",
              "\n",
              "    const fileDataPromise = new Promise((resolve) => {\n",
              "      const reader = new FileReader();\n",
              "      reader.onload = (e) => {\n",
              "        resolve(e.target.result);\n",
              "      };\n",
              "      reader.readAsArrayBuffer(file);\n",
              "    });\n",
              "    // Wait for the data to be ready.\n",
              "    let fileData = yield {\n",
              "      promise: fileDataPromise,\n",
              "      response: {\n",
              "        action: 'continue',\n",
              "      }\n",
              "    };\n",
              "\n",
              "    // Use a chunked sending to avoid message size limits. See b/62115660.\n",
              "    let position = 0;\n",
              "    do {\n",
              "      const length = Math.min(fileData.byteLength - position, MAX_PAYLOAD_SIZE);\n",
              "      const chunk = new Uint8Array(fileData, position, length);\n",
              "      position += length;\n",
              "\n",
              "      const base64 = btoa(String.fromCharCode.apply(null, chunk));\n",
              "      yield {\n",
              "        response: {\n",
              "          action: 'append',\n",
              "          file: file.name,\n",
              "          data: base64,\n",
              "        },\n",
              "      };\n",
              "\n",
              "      let percentDone = fileData.byteLength === 0 ?\n",
              "          100 :\n",
              "          Math.round((position / fileData.byteLength) * 100);\n",
              "      percent.textContent = `${percentDone}% done`;\n",
              "\n",
              "    } while (position < fileData.byteLength);\n",
              "  }\n",
              "\n",
              "  // All done.\n",
              "  yield {\n",
              "    response: {\n",
              "      action: 'complete',\n",
              "    }\n",
              "  };\n",
              "}\n",
              "\n",
              "scope.google = scope.google || {};\n",
              "scope.google.colab = scope.google.colab || {};\n",
              "scope.google.colab._files = {\n",
              "  _uploadFiles,\n",
              "  _uploadFilesContinue,\n",
              "};\n",
              "})(self);\n",
              "</script> "
            ]
          },
          "metadata": {}
        },
        {
          "output_type": "stream",
          "name": "stdout",
          "text": [
            "Saving company_sales_data.csv to company_sales_data (3).csv\n"
          ]
        },
        {
          "output_type": "display_data",
          "data": {
            "text/plain": [
              "<Figure size 640x480 with 1 Axes>"
            ],
            "image/png": "[encoded data removed]"
          },
          "metadata": {}
        }
      ]
    },
    {
      "cell_type": "markdown",
      "source": [
        "## Problem statement 2 ---\n",
        "\n",
        "       Read face cream and facewash product sales dataand show it using the bar chart.\n",
        "       The bar chart should display the number of units sold per month for each product.\n",
        "       Add a seperate bar for each product in the same chart.\n",
        "\n",
        "\n"
      ],
      "metadata": {
        "id": "sQeVK9KVahCs"
      }
    },
    {
      "cell_type": "markdown",
      "source": [
        "### Solution ---"
      ],
      "metadata": {
        "id": "eJicYRXntPOm"
      }
    },
    {
      "cell_type": "code",
      "source": [
        "import pandas as pd\n",
        "import matplotlib.pyplot as plt\n",
        "\n",
        "# Load the dataset\n",
        "from google.colab import files\n",
        "uploaded = files.upload()\n",
        "df = pd.read_csv(\"company_sales_data.csv\")\n",
        "\n",
        "# Extract the month number, face cream sales, and facewash sales\n",
        "month_number = df['month_number']\n",
        "facecream_sales = df['facecream']\n",
        "facewash_sales = df['facewash']\n",
        "\n",
        "# Set the width of the bars\n",
        "bar_width = 0.35\n",
        "\n",
        "# Create a bar chart\n",
        "plt.bar(month_number - bar_width/2, facecream_sales, bar_width, label='Face Cream Sales')\n",
        "plt.bar(month_number + bar_width/2, facewash_sales, bar_width, label='Facewash Sales')\n",
        "\n",
        "# Add labels to the x and y axes\n",
        "plt.xlabel(\"Month Number\")\n",
        "plt.ylabel(\"Units Sold\")\n",
        "\n",
        "# Add a title to the plot (optional)\n",
        "plt.title(\"Monthly Sales of Face Cream and Facewash\")\n",
        "\n",
        "# Add a legend to the chart\n",
        "plt.legend()\n",
        "\n",
        "# Set the x-axis ticks to be at the center of the two bars for each month\n",
        "plt.xticks(month_number)\n",
        "\n",
        "# Show the plot\n",
        "plt.show()"
      ],
      "metadata": {
        "id": "kb7pEb04bbRS",
        "colab": {
          "base_uri": "https://localhost:8080/",
          "height": 528
        },
        "outputId": "7d21d6f1-9e1f-4531-ae3b-7b1ba4b4f54a"
      },
      "execution_count": 35,
      "outputs": [
        {
          "output_type": "display_data",
          "data": {
            "text/plain": [
              "<IPython.core.display.HTML object>"
            ],
            "text/html": [
              "\n",
              "     <input type=\"file\" id=\"files-7daab9cf-0667-4abc-84ed-91a31fda9daa\" name=\"files[]\" multiple disabled\n",
              "        style=\"border:none\" />\n",
              "     <output id=\"result-7daab9cf-0667-4abc-84ed-91a31fda9daa\">\n",
              "      Upload widget is only available when the cell has been executed in the\n",
              "      current browser session. Please rerun this cell to enable.\n",
              "      </output>\n",
              "      <script>// Copyright 2017 Google LLC\n",
              "//\n",
              "// Licensed under the Apache License, Version 2.0 (the \"License\");\n",
              "// you may not use this file except in compliance with the License.\n",
              "// You may obtain a copy of the License at\n",
              "//\n",
              "//      http://www.apache.org/licenses/LICENSE-2.0\n",
              "//\n",
              "// Unless required by applicable law or agreed to in writing, software\n",
              "// distributed under the License is distributed on an \"AS IS\" BASIS,\n",
              "// WITHOUT WARRANTIES OR CONDITIONS OF ANY KIND, either express or implied.\n",
              "// See the License for the specific language governing permissions and\n",
              "// limitations under the License.\n",
              "\n",
              "/**\n",
              " * @fileoverview Helpers for google.colab Python module.\n",
              " */\n",
              "(function(scope) {\n",
              "function span(text, styleAttributes = {}) {\n",
              "  const element = document.createElement('span');\n",
              "  element.textContent = text;\n",
              "  for (const key of Object.keys(styleAttributes)) {\n",
              "    element.style[key] = styleAttributes[key];\n",
              "  }\n",
              "  return element;\n",
              "}\n",
              "\n",
              "// Max number of bytes which will be uploaded at a time.\n",
              "const MAX_PAYLOAD_SIZE = 100 * 1024;\n",
              "\n",
              "function _uploadFiles(inputId, outputId) {\n",
              "  const steps = uploadFilesStep(inputId, outputId);\n",
              "  const outputElement = document.getElementById(outputId);\n",
              "  // Cache steps on the outputElement to make it available for the next call\n",
              "  // to uploadFilesContinue from Python.\n",
              "  outputElement.steps = steps;\n",
              "\n",
              "  return _uploadFilesContinue(outputId);\n",
              "}\n",
              "\n",
              "// This is roughly an async generator (not supported in the browser yet),\n",
              "// where there are multiple asynchronous steps and the Python side is going\n",
              "// to poll for completion of each step.\n",
              "// This uses a Promise to block the python side on completion of each step,\n",
              "// then passes the result of the previous step as the input to the next step.\n",
              "function _uploadFilesContinue(outputId) {\n",
              "  const outputElement = document.getElementById(outputId);\n",
              "  const steps = outputElement.steps;\n",
              "\n",
              "  const next = steps.next(outputElement.lastPromiseValue);\n",
              "  return Promise.resolve(next.value.promise).then((value) => {\n",
              "    // Cache the last promise value to make it available to the next\n",
              "    // step of the generator.\n",
              "    outputElement.lastPromiseValue = value;\n",
              "    return next.value.response;\n",
              "  });\n",
              "}\n",
              "\n",
              "/**\n",
              " * Generator function which is called between each async step of the upload\n",
              " * process.\n",
              " * @param {string} inputId Element ID of the input file picker element.\n",
              " * @param {string} outputId Element ID of the output display.\n",
              " * @return {!Iterable<!Object>} Iterable of next steps.\n",
              " */\n",
              "function* uploadFilesStep(inputId, outputId) {\n",
              "  const inputElement = document.getElementById(inputId);\n",
              "  inputElement.disabled = false;\n",
              "\n",
              "  const outputElement = document.getElementById(outputId);\n",
              "  outputElement.innerHTML = '';\n",
              "\n",
              "  const pickedPromise = new Promise((resolve) => {\n",
              "    inputElement.addEventListener('change', (e) => {\n",
              "      resolve(e.target.files);\n",
              "    });\n",
              "  });\n",
              "\n",
              "  const cancel = document.createElement('button');\n",
              "  inputElement.parentElement.appendChild(cancel);\n",
              "  cancel.textContent = 'Cancel upload';\n",
              "  const cancelPromise = new Promise((resolve) => {\n",
              "    cancel.onclick = () => {\n",
              "      resolve(null);\n",
              "    };\n",
              "  });\n",
              "\n",
              "  // Wait for the user to pick the files.\n",
              "  const files = yield {\n",
              "    promise: Promise.race([pickedPromise, cancelPromise]),\n",
              "    response: {\n",
              "      action: 'starting',\n",
              "    }\n",
              "  };\n",
              "\n",
              "  cancel.remove();\n",
              "\n",
              "  // Disable the input element since further picks are not allowed.\n",
              "  inputElement.disabled = true;\n",
              "\n",
              "  if (!files) {\n",
              "    return {\n",
              "      response: {\n",
              "        action: 'complete',\n",
              "      }\n",
              "    };\n",
              "  }\n",
              "\n",
              "  for (const file of files) {\n",
              "    const li = document.createElement('li');\n",
              "    li.append(span(file.name, {fontWeight: 'bold'}));\n",
              "    li.append(span(\n",
              "        `(${file.type || 'n/a'}) - ${file.size} bytes, ` +\n",
              "        `last modified: ${\n",
              "            file.lastModifiedDate ? file.lastModifiedDate.toLocaleDateString() :\n",
              "                                    'n/a'} - `));\n",
              "    const percent = span('0% done');\n",
              "    li.appendChild(percent);\n",
              "\n",
              "    outputElement.appendChild(li);\n",
              "\n",
              "    const fileDataPromise = new Promise((resolve) => {\n",
              "      const reader = new FileReader();\n",
              "      reader.onload = (e) => {\n",
              "        resolve(e.target.result);\n",
              "      };\n",
              "      reader.readAsArrayBuffer(file);\n",
              "    });\n",
              "    // Wait for the data to be ready.\n",
              "    let fileData = yield {\n",
              "      promise: fileDataPromise,\n",
              "      response: {\n",
              "        action: 'continue',\n",
              "      }\n",
              "    };\n",
              "\n",
              "    // Use a chunked sending to avoid message size limits. See b/62115660.\n",
              "    let position = 0;\n",
              "    do {\n",
              "      const length = Math.min(fileData.byteLength - position, MAX_PAYLOAD_SIZE);\n",
              "      const chunk = new Uint8Array(fileData, position, length);\n",
              "      position += length;\n",
              "\n",
              "      const base64 = btoa(String.fromCharCode.apply(null, chunk));\n",
              "      yield {\n",
              "        response: {\n",
              "          action: 'append',\n",
              "          file: file.name,\n",
              "          data: base64,\n",
              "        },\n",
              "      };\n",
              "\n",
              "      let percentDone = fileData.byteLength === 0 ?\n",
              "          100 :\n",
              "          Math.round((position / fileData.byteLength) * 100);\n",
              "      percent.textContent = `${percentDone}% done`;\n",
              "\n",
              "    } while (position < fileData.byteLength);\n",
              "  }\n",
              "\n",
              "  // All done.\n",
              "  yield {\n",
              "    response: {\n",
              "      action: 'complete',\n",
              "    }\n",
              "  };\n",
              "}\n",
              "\n",
              "scope.google = scope.google || {};\n",
              "scope.google.colab = scope.google.colab || {};\n",
              "scope.google.colab._files = {\n",
              "  _uploadFiles,\n",
              "  _uploadFilesContinue,\n",
              "};\n",
              "})(self);\n",
              "</script> "
            ]
          },
          "metadata": {}
        },
        {
          "output_type": "stream",
          "name": "stdout",
          "text": [
            "Saving company_sales_data.csv to company_sales_data (4).csv\n"
          ]
        },
        {
          "output_type": "display_data",
          "data": {
            "text/plain": [
              "<Figure size 640x480 with 1 Axes>"
            ],
            "image/png": "[encoded data removed]"
          },
          "metadata": {}
        }
      ]
    }
  ]
}